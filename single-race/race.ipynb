{
 "cells": [
  {
   "cell_type": "code",
   "execution_count": 1,
   "metadata": {},
   "outputs": [
    {
     "name": "stdout",
     "output_type": "stream",
     "text": [
      "pygame 1.9.6\n",
      "Hello from the pygame community. https://www.pygame.org/contribute.html\n"
     ]
    },
    {
     "data": {
      "text/plain": [
       "(6, 0)"
      ]
     },
     "execution_count": 1,
     "metadata": {},
     "output_type": "execute_result"
    }
   ],
   "source": [
    "import random\n",
    "import time\n",
    "import pygame\n",
    "\n",
    "pygame.init()"
   ]
  },
  {
   "cell_type": "code",
   "execution_count": 2,
   "metadata": {},
   "outputs": [],
   "source": [
    "crash_sound = pygame.mixer.Sound(\"crash.wav\")\n",
    "pygame.mixer.music.load(\"jazz.wav\")"
   ]
  },
  {
   "cell_type": "code",
   "execution_count": 3,
   "metadata": {},
   "outputs": [],
   "source": [
    "display_width = 800\n",
    "display_height = 600\n",
    "\n",
    "black = (0, 0, 0)\n",
    "white = (255, 255, 255)\n",
    "\n",
    "red = (200,0,0)\n",
    "green = (0,200,0)\n",
    "\n",
    "bright_red = (255,0,0)\n",
    "bright_green = (0,255,0)\n",
    "\n",
    "block_color = (53, 115, 255)\n",
    "\n",
    "car_width = 60\n",
    "\n",
    "pause = True"
   ]
  },
  {
   "cell_type": "code",
   "execution_count": 4,
   "metadata": {},
   "outputs": [],
   "source": [
    "gameDisplay = pygame.display.set_mode((display_width,display_height))\n",
    "\n",
    "pygame.display.set_caption('A bit racey')\n"
   ]
  },
  {
   "cell_type": "code",
   "execution_count": 5,
   "metadata": {},
   "outputs": [],
   "source": [
    "clock = pygame.time.Clock()"
   ]
  },
  {
   "cell_type": "code",
   "execution_count": 6,
   "metadata": {},
   "outputs": [],
   "source": [
    "carImg = pygame.image.load('racecar.png')\n",
    "carImg = pygame.transform.scale(carImg, (60, 120))"
   ]
  },
  {
   "cell_type": "code",
   "execution_count": 7,
   "metadata": {},
   "outputs": [],
   "source": [
    "carIcon = pygame.image.load('caricon.png')\n",
    "carIcon = pygame.transform.scale(carIcon, (60, 60))\n",
    "\n",
    "pygame.display.set_icon(carIcon)"
   ]
  },
  {
   "cell_type": "code",
   "execution_count": 8,
   "metadata": {},
   "outputs": [],
   "source": [
    "def things_dodged(count):\n",
    "    font = pygame.font.SysFont(None, 25)\n",
    "    text = font.render(\"Score: \" + str(count), True, black)\n",
    "    gameDisplay.blit(text, (0,0))"
   ]
  },
  {
   "cell_type": "code",
   "execution_count": 9,
   "metadata": {},
   "outputs": [],
   "source": [
    "def things(thingx, thingy, thingw, thingh, color):\n",
    "    pygame.draw.rect(gameDisplay, color, [thingx, thingy, thingw, thingh])"
   ]
  },
  {
   "cell_type": "code",
   "execution_count": 10,
   "metadata": {},
   "outputs": [],
   "source": [
    "def car(x,y):\n",
    "    gameDisplay.blit(carImg,(x,y))"
   ]
  },
  {
   "cell_type": "code",
   "execution_count": 11,
   "metadata": {},
   "outputs": [],
   "source": [
    "def text_objects(text, font):\n",
    "    textSurface = font.render(text, True, black)\n",
    "    return textSurface, textSurface.get_rect()\n",
    "    "
   ]
  },
  {
   "cell_type": "code",
   "execution_count": 12,
   "metadata": {},
   "outputs": [],
   "source": [
    "def message_display(text):\n",
    "    largeText = pygame.font.Font('freesansbold.ttf',115)\n",
    "    TextSurf, TextRect = text_objects(text, largeText)\n",
    "    TextRect.center = ((display_width/2),(display_height/2))\n",
    "    gameDisplay.blit(TextSurf, TextRect)\n",
    "\n",
    "    pygame.display.update()\n",
    "\n",
    "    time.sleep(2)\n",
    "\n",
    "    game_loop()"
   ]
  },
  {
   "cell_type": "code",
   "execution_count": 13,
   "metadata": {},
   "outputs": [],
   "source": [
    "def crash():\n",
    "    \n",
    "    pygame.mixer.music.stop()\n",
    "    pygame.mixer.Sound.play(crash_sound)\n",
    "    \n",
    "    largeText = pygame.font.SysFont(\"comicsansms\",115)\n",
    "    TextSurf, TextRect = text_objects(\"Game Over\", largeText)\n",
    "    TextRect.center = ((display_width/2),(display_height/2))\n",
    "    gameDisplay.blit(TextSurf, TextRect)\n",
    "    \n",
    "\n",
    "    while True:\n",
    "        for event in pygame.event.get():\n",
    "            if event.type == pygame.QUIT:\n",
    "                pygame.quit()\n",
    "                quit()\n",
    "        \n",
    "\n",
    "        button(\"Play Again\",150,450,110,50,green,bright_green,game_loop)\n",
    "        button(\"Quit\",550,450,110,50,red,bright_red,quitgame)\n",
    "\n",
    "        pygame.display.update()\n",
    "        clock.tick(15) "
   ]
  },
  {
   "cell_type": "code",
   "execution_count": 14,
   "metadata": {},
   "outputs": [],
   "source": [
    "def button(msg, x, y, w, h, ic, ac, action=None):\n",
    "    mouse = pygame.mouse.get_pos()\n",
    "    click = pygame.mouse.get_pressed()\n",
    "    \n",
    "    if x + w > mouse[0] > x and y + h > mouse[1] > y:\n",
    "        pygame.draw.rect(gameDisplay, ac,(x,y,w,h))\n",
    "        if click[0] == 1 and action != None:\n",
    "            action()\n",
    "            \n",
    "    else:\n",
    "        pygame.draw.rect(gameDisplay, ic,(x,y,w,h))\n",
    "    startText = pygame.font.Font('freesansbold.ttf',20)\n",
    "    TextSurf, TextRect = text_objects(msg, startText)\n",
    "    TextRect.center = ( (x + (w/2)), (y + (h/2)) )\n",
    "    gameDisplay.blit(TextSurf, TextRect)"
   ]
  },
  {
   "cell_type": "code",
   "execution_count": 15,
   "metadata": {},
   "outputs": [],
   "source": [
    "def quitgame():\n",
    "    pygame.quit()\n",
    "    quit()"
   ]
  },
  {
   "cell_type": "code",
   "execution_count": 16,
   "metadata": {},
   "outputs": [],
   "source": [
    "def unpause():\n",
    "    global pause\n",
    "    pygame.mixer.music.unpause()\n",
    "    pause = False"
   ]
  },
  {
   "cell_type": "code",
   "execution_count": 17,
   "metadata": {},
   "outputs": [],
   "source": [
    "def paused():\n",
    "    \n",
    "    pygame.mixer.music.pause()\n",
    "    \n",
    "    largeText = pygame.font.Font('freesansbold.ttf',115)\n",
    "    TextSurf, TextRect = text_objects(\"Paused\", largeText)\n",
    "    TextRect.center = ((display_width/2),(display_height/2))\n",
    "    gameDisplay.blit(TextSurf, TextRect)\n",
    "    \n",
    "    while pause:\n",
    "        for event in pygame.event.get():\n",
    "            if event.type == pygame.QUIT:\n",
    "                pygame.quit()        \n",
    "        \n",
    "        button(\"Continue\", 150, 450, 100, 50, green, bright_green, unpause)\n",
    "        button(\"Quit\", 550, 450, 100, 50, red, bright_red, quitgame)   \n",
    "        \n",
    "        pygame.display.update()\n",
    "        clock.tick(15)"
   ]
  },
  {
   "cell_type": "code",
   "execution_count": 18,
   "metadata": {},
   "outputs": [],
   "source": [
    "def game_intro():\n",
    "    intro = True\n",
    "    while intro:\n",
    "        for event in pygame.event.get():\n",
    "            if event.type == pygame.QUIT:\n",
    "                pygame.quit()\n",
    "        gameDisplay.fill(white)\n",
    "        largeText = pygame.font.Font('freesansbold.ttf',115)\n",
    "        TextSurf, TextRect = text_objects(\"A bit Racey\", largeText)\n",
    "        TextRect.center = ((display_width/2),(display_height/2))\n",
    "        gameDisplay.blit(TextSurf, TextRect)\n",
    "        \n",
    "        button(\"Start\", 150, 450, 100, 50, green, bright_green, game_loop)\n",
    "        button(\"Quit\", 550, 450, 100, 50, red, bright_red, quitgame)   \n",
    "        \n",
    "        pygame.display.update()\n",
    "        clock.tick(15)\n",
    "        "
   ]
  },
  {
   "cell_type": "code",
   "execution_count": 19,
   "metadata": {},
   "outputs": [],
   "source": [
    "def game_loop():    \n",
    "    global pause\n",
    "    \n",
    "    pygame.mixer.music.load('jazz.wav')\n",
    "    pygame.mixer.music.play(-1)\n",
    "    \n",
    "    x = (display_width * 0.45)\n",
    "    y = (display_height * 0.8)\n",
    "\n",
    "    x_change = 0\n",
    "\n",
    "    thing_speed = 4\n",
    "    thing_width = 100\n",
    "    thing_height = 100\n",
    "    thing_startx = random.randrange(0, display_width - thing_width)\n",
    "    thing_starty = -600\n",
    "\n",
    "    thingCount = 1\n",
    "\n",
    "    dodged = 0\n",
    "\n",
    "    gameExit = False\n",
    "\n",
    "    while not gameExit:\n",
    "\n",
    "        for event in pygame.event.get():\n",
    "            if event.type == pygame.QUIT:\n",
    "                pygame.quit()\n",
    "                quit()\n",
    "\n",
    "            if event.type == pygame.KEYDOWN:\n",
    "                if event.key == pygame.K_LEFT:\n",
    "                    x_change = -5\n",
    "                if event.key == pygame.K_RIGHT:\n",
    "                    x_change = 5\n",
    "                if event.key == pygame.K_p:\n",
    "                    pause = True\n",
    "                    paused()\n",
    "\n",
    "            if event.type == pygame.KEYUP:\n",
    "                if event.key == pygame.K_LEFT or event.key == pygame.K_RIGHT:\n",
    "                    x_change = 0\n",
    "\n",
    "        x += x_change\n",
    "        gameDisplay.fill(white)\n",
    "\n",
    "        things(thing_startx, thing_starty, thing_width, thing_height, block_color)\n",
    "        \n",
    "        thing_starty += thing_speed\n",
    "        car(x,y)\n",
    "        things_dodged(dodged)\n",
    "\n",
    "        if x > display_width - car_width or x < 0:\n",
    "            crash()\n",
    "\n",
    "        if thing_starty > display_height:\n",
    "            thing_starty = 0 - thing_height\n",
    "            thing_startx = random.randrange(0, display_width - thing_width)\n",
    "            dodged += 1\n",
    "            thing_speed += 1\n",
    "            thing_width += (dodged * 2)\n",
    "\n",
    "        if y < thing_starty + thing_height:\n",
    "            if x > thing_startx and x < thing_startx + thing_width or x+car_width > thing_startx and x + car_width < thing_startx+thing_width:\n",
    "                crash()\n",
    "        \n",
    "        pygame.display.update()\n",
    "        clock.tick(60)"
   ]
  },
  {
   "cell_type": "code",
   "execution_count": 20,
   "metadata": {},
   "outputs": [
    {
     "ename": "error",
     "evalue": "font not initialized",
     "output_type": "error",
     "traceback": [
      "\u001b[0;31m---------------------------------------------------------------------------\u001b[0m",
      "\u001b[0;31merror\u001b[0m                                     Traceback (most recent call last)",
      "\u001b[0;32m<ipython-input-20-4e0164090862>\u001b[0m in \u001b[0;36m<module>\u001b[0;34m\u001b[0m\n\u001b[0;32m----> 1\u001b[0;31m \u001b[0mgame_intro\u001b[0m\u001b[0;34m(\u001b[0m\u001b[0;34m)\u001b[0m\u001b[0;34m\u001b[0m\u001b[0;34m\u001b[0m\u001b[0m\n\u001b[0m\u001b[1;32m      2\u001b[0m \u001b[0mgame_loop\u001b[0m\u001b[0;34m(\u001b[0m\u001b[0;34m)\u001b[0m\u001b[0;34m\u001b[0m\u001b[0;34m\u001b[0m\u001b[0m\n\u001b[1;32m      3\u001b[0m \u001b[0mpygame\u001b[0m\u001b[0;34m.\u001b[0m\u001b[0mquit\u001b[0m\u001b[0;34m(\u001b[0m\u001b[0;34m)\u001b[0m\u001b[0;34m\u001b[0m\u001b[0;34m\u001b[0m\u001b[0m\n\u001b[1;32m      4\u001b[0m \u001b[0mquit\u001b[0m\u001b[0;34m(\u001b[0m\u001b[0;34m)\u001b[0m\u001b[0;34m\u001b[0m\u001b[0;34m\u001b[0m\u001b[0m\n",
      "\u001b[0;32m<ipython-input-18-3c46e1ff89b1>\u001b[0m in \u001b[0;36mgame_intro\u001b[0;34m()\u001b[0m\n\u001b[1;32m     11\u001b[0m         \u001b[0mgameDisplay\u001b[0m\u001b[0;34m.\u001b[0m\u001b[0mblit\u001b[0m\u001b[0;34m(\u001b[0m\u001b[0mTextSurf\u001b[0m\u001b[0;34m,\u001b[0m \u001b[0mTextRect\u001b[0m\u001b[0;34m)\u001b[0m\u001b[0;34m\u001b[0m\u001b[0;34m\u001b[0m\u001b[0m\n\u001b[1;32m     12\u001b[0m \u001b[0;34m\u001b[0m\u001b[0m\n\u001b[0;32m---> 13\u001b[0;31m         \u001b[0mbutton\u001b[0m\u001b[0;34m(\u001b[0m\u001b[0;34m\"Start\"\u001b[0m\u001b[0;34m,\u001b[0m \u001b[0;36m150\u001b[0m\u001b[0;34m,\u001b[0m \u001b[0;36m450\u001b[0m\u001b[0;34m,\u001b[0m \u001b[0;36m100\u001b[0m\u001b[0;34m,\u001b[0m \u001b[0;36m50\u001b[0m\u001b[0;34m,\u001b[0m \u001b[0mgreen\u001b[0m\u001b[0;34m,\u001b[0m \u001b[0mbright_green\u001b[0m\u001b[0;34m,\u001b[0m \u001b[0mgame_loop\u001b[0m\u001b[0;34m)\u001b[0m\u001b[0;34m\u001b[0m\u001b[0;34m\u001b[0m\u001b[0m\n\u001b[0m\u001b[1;32m     14\u001b[0m         \u001b[0mbutton\u001b[0m\u001b[0;34m(\u001b[0m\u001b[0;34m\"Quit\"\u001b[0m\u001b[0;34m,\u001b[0m \u001b[0;36m550\u001b[0m\u001b[0;34m,\u001b[0m \u001b[0;36m450\u001b[0m\u001b[0;34m,\u001b[0m \u001b[0;36m100\u001b[0m\u001b[0;34m,\u001b[0m \u001b[0;36m50\u001b[0m\u001b[0;34m,\u001b[0m \u001b[0mred\u001b[0m\u001b[0;34m,\u001b[0m \u001b[0mbright_red\u001b[0m\u001b[0;34m,\u001b[0m \u001b[0mquitgame\u001b[0m\u001b[0;34m)\u001b[0m\u001b[0;34m\u001b[0m\u001b[0;34m\u001b[0m\u001b[0m\n\u001b[1;32m     15\u001b[0m \u001b[0;34m\u001b[0m\u001b[0m\n",
      "\u001b[0;32m<ipython-input-14-7cc3b7fcd93b>\u001b[0m in \u001b[0;36mbutton\u001b[0;34m(msg, x, y, w, h, ic, ac, action)\u001b[0m\n\u001b[1;32m      6\u001b[0m         \u001b[0mpygame\u001b[0m\u001b[0;34m.\u001b[0m\u001b[0mdraw\u001b[0m\u001b[0;34m.\u001b[0m\u001b[0mrect\u001b[0m\u001b[0;34m(\u001b[0m\u001b[0mgameDisplay\u001b[0m\u001b[0;34m,\u001b[0m \u001b[0mac\u001b[0m\u001b[0;34m,\u001b[0m\u001b[0;34m(\u001b[0m\u001b[0mx\u001b[0m\u001b[0;34m,\u001b[0m\u001b[0my\u001b[0m\u001b[0;34m,\u001b[0m\u001b[0mw\u001b[0m\u001b[0;34m,\u001b[0m\u001b[0mh\u001b[0m\u001b[0;34m)\u001b[0m\u001b[0;34m)\u001b[0m\u001b[0;34m\u001b[0m\u001b[0;34m\u001b[0m\u001b[0m\n\u001b[1;32m      7\u001b[0m         \u001b[0;32mif\u001b[0m \u001b[0mclick\u001b[0m\u001b[0;34m[\u001b[0m\u001b[0;36m0\u001b[0m\u001b[0;34m]\u001b[0m \u001b[0;34m==\u001b[0m \u001b[0;36m1\u001b[0m \u001b[0;32mand\u001b[0m \u001b[0maction\u001b[0m \u001b[0;34m!=\u001b[0m \u001b[0;32mNone\u001b[0m\u001b[0;34m:\u001b[0m\u001b[0;34m\u001b[0m\u001b[0;34m\u001b[0m\u001b[0m\n\u001b[0;32m----> 8\u001b[0;31m             \u001b[0maction\u001b[0m\u001b[0;34m(\u001b[0m\u001b[0;34m)\u001b[0m\u001b[0;34m\u001b[0m\u001b[0;34m\u001b[0m\u001b[0m\n\u001b[0m\u001b[1;32m      9\u001b[0m \u001b[0;34m\u001b[0m\u001b[0m\n\u001b[1;32m     10\u001b[0m     \u001b[0;32melse\u001b[0m\u001b[0;34m:\u001b[0m\u001b[0;34m\u001b[0m\u001b[0;34m\u001b[0m\u001b[0m\n",
      "\u001b[0;32m<ipython-input-19-721d92151fd1>\u001b[0m in \u001b[0;36mgame_loop\u001b[0;34m()\u001b[0m\n\u001b[1;32m     63\u001b[0m         \u001b[0;32mif\u001b[0m \u001b[0my\u001b[0m \u001b[0;34m<\u001b[0m \u001b[0mthing_starty\u001b[0m \u001b[0;34m+\u001b[0m \u001b[0mthing_height\u001b[0m\u001b[0;34m:\u001b[0m\u001b[0;34m\u001b[0m\u001b[0;34m\u001b[0m\u001b[0m\n\u001b[1;32m     64\u001b[0m             \u001b[0;32mif\u001b[0m \u001b[0mx\u001b[0m \u001b[0;34m>\u001b[0m \u001b[0mthing_startx\u001b[0m \u001b[0;32mand\u001b[0m \u001b[0mx\u001b[0m \u001b[0;34m<\u001b[0m \u001b[0mthing_startx\u001b[0m \u001b[0;34m+\u001b[0m \u001b[0mthing_width\u001b[0m \u001b[0;32mor\u001b[0m \u001b[0mx\u001b[0m\u001b[0;34m+\u001b[0m\u001b[0mcar_width\u001b[0m \u001b[0;34m>\u001b[0m \u001b[0mthing_startx\u001b[0m \u001b[0;32mand\u001b[0m \u001b[0mx\u001b[0m \u001b[0;34m+\u001b[0m \u001b[0mcar_width\u001b[0m \u001b[0;34m<\u001b[0m \u001b[0mthing_startx\u001b[0m\u001b[0;34m+\u001b[0m\u001b[0mthing_width\u001b[0m\u001b[0;34m:\u001b[0m\u001b[0;34m\u001b[0m\u001b[0;34m\u001b[0m\u001b[0m\n\u001b[0;32m---> 65\u001b[0;31m                 \u001b[0mcrash\u001b[0m\u001b[0;34m(\u001b[0m\u001b[0;34m)\u001b[0m\u001b[0;34m\u001b[0m\u001b[0;34m\u001b[0m\u001b[0m\n\u001b[0m\u001b[1;32m     66\u001b[0m \u001b[0;34m\u001b[0m\u001b[0m\n\u001b[1;32m     67\u001b[0m         \u001b[0mpygame\u001b[0m\u001b[0;34m.\u001b[0m\u001b[0mdisplay\u001b[0m\u001b[0;34m.\u001b[0m\u001b[0mupdate\u001b[0m\u001b[0;34m(\u001b[0m\u001b[0;34m)\u001b[0m\u001b[0;34m\u001b[0m\u001b[0;34m\u001b[0m\u001b[0m\n",
      "\u001b[0;32m<ipython-input-13-490e3ec59247>\u001b[0m in \u001b[0;36mcrash\u001b[0;34m()\u001b[0m\n\u001b[1;32m     18\u001b[0m \u001b[0;34m\u001b[0m\u001b[0m\n\u001b[1;32m     19\u001b[0m         \u001b[0mbutton\u001b[0m\u001b[0;34m(\u001b[0m\u001b[0;34m\"Play Again\"\u001b[0m\u001b[0;34m,\u001b[0m\u001b[0;36m150\u001b[0m\u001b[0;34m,\u001b[0m\u001b[0;36m450\u001b[0m\u001b[0;34m,\u001b[0m\u001b[0;36m110\u001b[0m\u001b[0;34m,\u001b[0m\u001b[0;36m50\u001b[0m\u001b[0;34m,\u001b[0m\u001b[0mgreen\u001b[0m\u001b[0;34m,\u001b[0m\u001b[0mbright_green\u001b[0m\u001b[0;34m,\u001b[0m\u001b[0mgame_loop\u001b[0m\u001b[0;34m)\u001b[0m\u001b[0;34m\u001b[0m\u001b[0;34m\u001b[0m\u001b[0m\n\u001b[0;32m---> 20\u001b[0;31m         \u001b[0mbutton\u001b[0m\u001b[0;34m(\u001b[0m\u001b[0;34m\"Quit\"\u001b[0m\u001b[0;34m,\u001b[0m\u001b[0;36m550\u001b[0m\u001b[0;34m,\u001b[0m\u001b[0;36m450\u001b[0m\u001b[0;34m,\u001b[0m\u001b[0;36m110\u001b[0m\u001b[0;34m,\u001b[0m\u001b[0;36m50\u001b[0m\u001b[0;34m,\u001b[0m\u001b[0mred\u001b[0m\u001b[0;34m,\u001b[0m\u001b[0mbright_red\u001b[0m\u001b[0;34m,\u001b[0m\u001b[0mquitgame\u001b[0m\u001b[0;34m)\u001b[0m\u001b[0;34m\u001b[0m\u001b[0;34m\u001b[0m\u001b[0m\n\u001b[0m\u001b[1;32m     21\u001b[0m \u001b[0;34m\u001b[0m\u001b[0m\n\u001b[1;32m     22\u001b[0m         \u001b[0mpygame\u001b[0m\u001b[0;34m.\u001b[0m\u001b[0mdisplay\u001b[0m\u001b[0;34m.\u001b[0m\u001b[0mupdate\u001b[0m\u001b[0;34m(\u001b[0m\u001b[0;34m)\u001b[0m\u001b[0;34m\u001b[0m\u001b[0;34m\u001b[0m\u001b[0m\n",
      "\u001b[0;32m<ipython-input-14-7cc3b7fcd93b>\u001b[0m in \u001b[0;36mbutton\u001b[0;34m(msg, x, y, w, h, ic, ac, action)\u001b[0m\n\u001b[1;32m     10\u001b[0m     \u001b[0;32melse\u001b[0m\u001b[0;34m:\u001b[0m\u001b[0;34m\u001b[0m\u001b[0;34m\u001b[0m\u001b[0m\n\u001b[1;32m     11\u001b[0m         \u001b[0mpygame\u001b[0m\u001b[0;34m.\u001b[0m\u001b[0mdraw\u001b[0m\u001b[0;34m.\u001b[0m\u001b[0mrect\u001b[0m\u001b[0;34m(\u001b[0m\u001b[0mgameDisplay\u001b[0m\u001b[0;34m,\u001b[0m \u001b[0mic\u001b[0m\u001b[0;34m,\u001b[0m\u001b[0;34m(\u001b[0m\u001b[0mx\u001b[0m\u001b[0;34m,\u001b[0m\u001b[0my\u001b[0m\u001b[0;34m,\u001b[0m\u001b[0mw\u001b[0m\u001b[0;34m,\u001b[0m\u001b[0mh\u001b[0m\u001b[0;34m)\u001b[0m\u001b[0;34m)\u001b[0m\u001b[0;34m\u001b[0m\u001b[0;34m\u001b[0m\u001b[0m\n\u001b[0;32m---> 12\u001b[0;31m     \u001b[0mstartText\u001b[0m \u001b[0;34m=\u001b[0m \u001b[0mpygame\u001b[0m\u001b[0;34m.\u001b[0m\u001b[0mfont\u001b[0m\u001b[0;34m.\u001b[0m\u001b[0mFont\u001b[0m\u001b[0;34m(\u001b[0m\u001b[0;34m'freesansbold.ttf'\u001b[0m\u001b[0;34m,\u001b[0m\u001b[0;36m20\u001b[0m\u001b[0;34m)\u001b[0m\u001b[0;34m\u001b[0m\u001b[0;34m\u001b[0m\u001b[0m\n\u001b[0m\u001b[1;32m     13\u001b[0m     \u001b[0mTextSurf\u001b[0m\u001b[0;34m,\u001b[0m \u001b[0mTextRect\u001b[0m \u001b[0;34m=\u001b[0m \u001b[0mtext_objects\u001b[0m\u001b[0;34m(\u001b[0m\u001b[0mmsg\u001b[0m\u001b[0;34m,\u001b[0m \u001b[0mstartText\u001b[0m\u001b[0;34m)\u001b[0m\u001b[0;34m\u001b[0m\u001b[0;34m\u001b[0m\u001b[0m\n\u001b[1;32m     14\u001b[0m     \u001b[0mTextRect\u001b[0m\u001b[0;34m.\u001b[0m\u001b[0mcenter\u001b[0m \u001b[0;34m=\u001b[0m \u001b[0;34m(\u001b[0m \u001b[0;34m(\u001b[0m\u001b[0mx\u001b[0m \u001b[0;34m+\u001b[0m \u001b[0;34m(\u001b[0m\u001b[0mw\u001b[0m\u001b[0;34m/\u001b[0m\u001b[0;36m2\u001b[0m\u001b[0;34m)\u001b[0m\u001b[0;34m)\u001b[0m\u001b[0;34m,\u001b[0m \u001b[0;34m(\u001b[0m\u001b[0my\u001b[0m \u001b[0;34m+\u001b[0m \u001b[0;34m(\u001b[0m\u001b[0mh\u001b[0m\u001b[0;34m/\u001b[0m\u001b[0;36m2\u001b[0m\u001b[0;34m)\u001b[0m\u001b[0;34m)\u001b[0m \u001b[0;34m)\u001b[0m\u001b[0;34m\u001b[0m\u001b[0;34m\u001b[0m\u001b[0m\n",
      "\u001b[0;31merror\u001b[0m: font not initialized"
     ]
    },
    {
     "name": "stderr",
     "output_type": "stream",
     "text": [
      "ERROR:root:Invalid alias: The name clear can't be aliased because it is another magic command.\n",
      "ERROR:root:Invalid alias: The name more can't be aliased because it is another magic command.\n",
      "ERROR:root:Invalid alias: The name less can't be aliased because it is another magic command.\n",
      "ERROR:root:Invalid alias: The name man can't be aliased because it is another magic command.\n"
     ]
    }
   ],
   "source": [
    "game_intro()\n",
    "game_loop()\n",
    "pygame.quit()\n",
    "quit()"
   ]
  },
  {
   "cell_type": "code",
   "execution_count": null,
   "metadata": {},
   "outputs": [],
   "source": []
  }
 ],
 "metadata": {
  "kernelspec": {
   "display_name": "Python 3",
   "language": "python",
   "name": "python3"
  },
  "language_info": {
   "codemirror_mode": {
    "name": "ipython",
    "version": 3
   },
   "file_extension": ".py",
   "mimetype": "text/x-python",
   "name": "python",
   "nbconvert_exporter": "python",
   "pygments_lexer": "ipython3",
   "version": "3.6.8"
  }
 },
 "nbformat": 4,
 "nbformat_minor": 2
}
